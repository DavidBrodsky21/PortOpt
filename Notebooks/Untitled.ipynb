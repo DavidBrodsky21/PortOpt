{
 "cells": [
  {
   "cell_type": "code",
   "execution_count": 1,
   "metadata": {
    "collapsed": false
   },
   "outputs": [
    {
     "ename": "ImportError",
     "evalue": "No module named zipline",
     "output_type": "error",
     "traceback": [
      "\u001b[0;31m---------------------------------------------------------------------------\u001b[0m",
      "\u001b[0;31mImportError\u001b[0m                               Traceback (most recent call last)",
      "\u001b[0;32m<ipython-input-1-caeca508216f>\u001b[0m in \u001b[0;36m<module>\u001b[0;34m()\u001b[0m\n\u001b[0;32m----> 1\u001b[0;31m \u001b[0;32mimport\u001b[0m \u001b[0mzipline\u001b[0m\u001b[0;34m\u001b[0m\u001b[0m\n\u001b[0m",
      "\u001b[0;31mImportError\u001b[0m: No module named zipline"
     ]
    }
   ],
   "source": [
    "import zipline"
   ]
  },
  {
   "cell_type": "code",
   "execution_count": 2,
   "metadata": {
    "collapsed": false
   },
   "outputs": [
    {
     "name": "stdout",
     "output_type": "stream",
     "text": [
      "Collecting zipline\n",
      "  Downloading zipline-1.1.0.tar.gz (433kB)\n",
      "Requirement already satisfied: pip>=7.1.0 in /Users/davidbrodsky/anaconda/lib/python2.7/site-packages (from zipline)\n",
      "Requirement already satisfied: setuptools>18.0 in /Users/davidbrodsky/anaconda/lib/python2.7/site-packages/setuptools-20.3-py2.7.egg (from zipline)\n",
      "Collecting Logbook>=0.12.5 (from zipline)\n",
      "  Downloading Logbook-1.0.0.tar.gz (178kB)\n",
      "Collecting pytz>=2016.4 (from zipline)\n",
      "  Downloading pytz-2017.2-py2.py3-none-any.whl (484kB)\n",
      "Requirement already satisfied: numpy>=1.11.1 in /Users/davidbrodsky/anaconda/lib/python2.7/site-packages (from zipline)\n",
      "Requirement already satisfied: requests-file>=1.4.1 in /Users/davidbrodsky/anaconda/lib/python2.7/site-packages (from zipline)\n",
      "Collecting scipy>=0.17.1 (from zipline)\n",
      "  Downloading scipy-0.19.1-cp27-cp27m-macosx_10_6_intel.macosx_10_9_intel.macosx_10_9_x86_64.macosx_10_10_intel.macosx_10_10_x86_64.whl (16.2MB)\n",
      "Collecting pandas<0.19,>=0.18.1 (from zipline)\n",
      "  Downloading pandas-0.18.1-cp27-cp27m-macosx_10_6_intel.macosx_10_9_intel.macosx_10_9_x86_64.macosx_10_10_intel.macosx_10_10_x86_64.whl (10.0MB)\n",
      "Requirement already satisfied: pandas-datareader>=0.2.1 in /Users/davidbrodsky/anaconda/lib/python2.7/site-packages (from zipline)\n",
      "Requirement already satisfied: patsy>=0.4.0 in /Users/davidbrodsky/anaconda/lib/python2.7/site-packages (from zipline)\n",
      "Requirement already satisfied: statsmodels>=0.6.1 in /Users/davidbrodsky/anaconda/lib/python2.7/site-packages (from zipline)\n",
      "Requirement already satisfied: python-dateutil>=2.4.2 in /Users/davidbrodsky/anaconda/lib/python2.7/site-packages (from zipline)\n",
      "Requirement already satisfied: six>=1.10.0 in /Users/davidbrodsky/anaconda/lib/python2.7/site-packages (from zipline)\n",
      "Requirement already satisfied: requests>=2.9.1 in /Users/davidbrodsky/anaconda/lib/python2.7/site-packages (from zipline)\n",
      "Requirement already satisfied: Cython>=0.22.1 in /Users/davidbrodsky/anaconda/lib/python2.7/site-packages (from zipline)\n",
      "Collecting cyordereddict>=0.2.2 (from zipline)\n",
      "  Downloading cyordereddict-1.0.0.tar.gz (138kB)\n",
      "Requirement already satisfied: bottleneck>=1.0.0 in /Users/davidbrodsky/anaconda/lib/python2.7/site-packages (from zipline)\n",
      "Collecting contextlib2>=0.4.0 (from zipline)\n",
      "  Downloading contextlib2-0.5.5-py2.py3-none-any.whl\n",
      "Requirement already satisfied: decorator>=4.0.0 in /Users/davidbrodsky/anaconda/lib/python2.7/site-packages (from zipline)\n",
      "Requirement already satisfied: networkx>=1.9.1 in /Users/davidbrodsky/anaconda/lib/python2.7/site-packages (from zipline)\n",
      "Collecting numexpr>=2.6.1 (from zipline)\n",
      "  Downloading numexpr-2.6.2-cp27-cp27m-macosx_10_6_intel.macosx_10_9_intel.macosx_10_9_x86_64.macosx_10_10_intel.macosx_10_10_x86_64.whl (170kB)\n",
      "Collecting bcolz<1,>=0.12.1 (from zipline)\n",
      "  Downloading bcolz-0.12.1.tar.gz (622kB)\n",
      "    Complete output from command python setup.py egg_info:\n",
      "    Download error on https://devpi.squarespace.net/root/sqsp/+simple/setuptools-scm/: timed out -- Some packages may not be found!\n",
      "    Couldn't find index page for 'setuptools-scm' (maybe misspelled?)\n",
      "    Download error on https://devpi.squarespace.net/root/sqsp/+simple/: timed out -- Some packages may not be found!\n",
      "    No local packages or download links found for setuptools-scm>1.5.4\n",
      "    Traceback (most recent call last):\n",
      "      File \"<string>\", line 1, in <module>\n",
      "      File \"/private/var/folders/nd/11x613fn6t1gtmg6fm4kdm400000gn/T/pip-build-pdJtaO/bcolz/setup.py\", line 211, in <module>\n",
      "        cmdclass=LazyCommandClass(),\n",
      "      File \"/Users/davidbrodsky/anaconda/lib/python2.7/distutils/core.py\", line 111, in setup\n",
      "        _setup_distribution = dist = klass(attrs)\n",
      "      File \"/Users/davidbrodsky/anaconda/lib/python2.7/site-packages/setuptools-20.3-py2.7.egg/setuptools/dist.py\", line 269, in __init__\n",
      "      File \"/Users/davidbrodsky/anaconda/lib/python2.7/site-packages/setuptools-20.3-py2.7.egg/setuptools/dist.py\", line 313, in fetch_build_eggs\n",
      "      File \"/Users/davidbrodsky/anaconda/lib/python2.7/site-packages/setuptools-20.3-py2.7.egg/pkg_resources/__init__.py\", line 827, in resolve\n",
      "      File \"/Users/davidbrodsky/anaconda/lib/python2.7/site-packages/setuptools-20.3-py2.7.egg/pkg_resources/__init__.py\", line 1072, in best_match\n",
      "      File \"/Users/davidbrodsky/anaconda/lib/python2.7/site-packages/setuptools-20.3-py2.7.egg/pkg_resources/__init__.py\", line 1084, in obtain\n",
      "      File \"/Users/davidbrodsky/anaconda/lib/python2.7/site-packages/setuptools-20.3-py2.7.egg/setuptools/dist.py\", line 380, in fetch_build_egg\n",
      "      File \"/Users/davidbrodsky/anaconda/lib/python2.7/site-packages/setuptools-20.3-py2.7.egg/setuptools/command/easy_install.py\", line 634, in easy_install\n",
      "    distutils.errors.DistutilsError: Could not find suitable distribution for Requirement.parse('setuptools-scm>1.5.4')\n",
      "    \n",
      "    ----------------------------------------\n"
     ]
    },
    {
     "name": "stderr",
     "output_type": "stream",
     "text": [
      "Command \"python setup.py egg_info\" failed with error code 1 in /private/var/folders/nd/11x613fn6t1gtmg6fm4kdm400000gn/T/pip-build-pdJtaO/bcolz/\n"
     ]
    }
   ],
   "source": [
    "%%bash\n",
    "pip install zipline"
   ]
  },
  {
   "cell_type": "code",
   "execution_count": null,
   "metadata": {
    "collapsed": true
   },
   "outputs": [],
   "source": []
  }
 ],
 "metadata": {
  "kernelspec": {
   "display_name": "Python 2",
   "language": "python",
   "name": "python2"
  },
  "language_info": {
   "codemirror_mode": {
    "name": "ipython",
    "version": 2
   },
   "file_extension": ".py",
   "mimetype": "text/x-python",
   "name": "python",
   "nbconvert_exporter": "python",
   "pygments_lexer": "ipython2",
   "version": "2.7.11"
  }
 },
 "nbformat": 4,
 "nbformat_minor": 0
}
